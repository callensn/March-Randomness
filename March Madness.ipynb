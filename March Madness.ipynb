{
 "cells": [
  {
   "cell_type": "code",
   "execution_count": 51,
   "id": "3ac47301",
   "metadata": {},
   "outputs": [],
   "source": [
    "import numpy as np"
   ]
  },
  {
   "cell_type": "code",
   "execution_count": 52,
   "id": "440c631f",
   "metadata": {},
   "outputs": [],
   "source": [
    "def PickWinner(teams, prob=.5):\n",
    "    \"\"\"\n",
    "    Function that randomly selects the winner of a game.\n",
    "    \n",
    "    teams: list (2,) of two teams playing each other\n",
    "    prob: float of how likely it is historically that the first team listed \n",
    "    in teams wins the game.\n",
    "    \"\"\"\n",
    "\n",
    "    if np.random.rand() < prob: #If the random number between 0 and 1 is less than the \n",
    "        return teams[0]         #specified probability, then return the first team listed\n",
    "    else:\n",
    "        return teams[1]\n",
    "    \n",
    "def Bracket():\n",
    "    bracket = [[\"Auburn\", \"ALST/SFPA\"], [\"Louisville\", \"Creighton\"], [\"Michigan\", \"UCSD\"], [\"Texas A&M\", \"Yale\"], \\\n",
    "              [\"Ole Miss\", \"SDSU/UNC\"], [\"Iowa State\", \"Lipscomb.\"], [\"Marquette\", \"New Mexico\"], [\"Michigan St.\", \"Bryant\"], \\\n",
    "              [\"Florida\", \"Norfolk St.\"], [\"UConn\", \"Oklahoma\"], [\"Memphis\", \"Colorado St.\"], [\"Maryland\", \"Grand Canyon\"], \\\n",
    "              [\"Missouri\", \"Drake\"], [\"Texas Tech\", \"UNC Wilmington\"], [\"Kansas\", \"Arkansas\"], [\"St. John's\", \"Omaha\"], \\\n",
    "              [\"Duke\", \"AMER/MSM\"], [\"Miss St.\", \"Baylor\"], [\"Oregon\", \"Liberty\"], [\"Arizona\", \"Akron\"], \\\n",
    "              [\"BYU\", \"VCU\"], [\"Wisconsin\", \"Montana\"], [\"Saint Mary's\", \"Vanderbilt\"], [\"Alabama\", \"Robert Morris\"], \\\n",
    "              [\"Houston\", \"SIUE\"], [\"Gonzaga\", \"Georgia\"], [\"Clemson\", \"McNeese\"], [\"Purdue\", \"High Point\"], \\\n",
    "              [\"Illinois\", \"TEX/XAV\"], [\"Kentucky\", \"Troy\"], [\"UCLA\", \"Utah St.\"], [\"Tennessee\", \"Wofford\"]]\n",
    "    return bracket\n",
    "\n",
    "def NextRound(bracket, filename, num_round):\n",
    "    \n",
    "    if num_round == 2:\n",
    "        with open(filename, 'a') as myfile:\n",
    "            myfile.write(\"SWEET SIXTEEN: \\n\")\n",
    "    elif num_round == 3:\n",
    "        with open(filename, 'a') as myfile:\n",
    "            myfile.write(\"ELITE EIGHT: \\n\")\n",
    "    elif num_round == 4:\n",
    "        with open(filename, 'a') as myfile:\n",
    "            myfile.write(\"FINAL FOUR: \\n\")\n",
    "    elif num_round == 5:\n",
    "        with open(filename, 'a') as myfile:\n",
    "            myfile.write(\"NATIONAL CHAMPIONSHIP: \\n\")\n",
    "            \n",
    "    if len(bracket) == 1:\n",
    "        with open(filename, 'a') as myfile:\n",
    "            myfile.write(\"NATIONAL CHAMPION: \\n\")\n",
    "            myfile.write(bracket[0][0])\n",
    "        return \n",
    "    else:\n",
    "        next_bracket = []\n",
    "        for i in range(0, len(bracket), 2):\n",
    "            two = [PickWinner(bracket[i]), PickWinner(bracket[i+1])]\n",
    "            next_bracket.append(two)\n",
    "            \n",
    "            with open(filename, 'a') as myfile:\n",
    "                for team in two:\n",
    "                    myfile.write(team)\n",
    "                    myfile.write(\"\\n\")\n",
    "                    \n",
    "        return NextRound(next_bracket, filename, num_round + 1)\n",
    "\n",
    "    \n",
    "def FirstRound(initial_bracket):\n",
    "    second_round = []\n",
    "    real_second_round = []\n",
    "    for i in range(len(initial_bracket)):\n",
    "        second_round.append(PickWinner(initial_bracket[i], prob=seed(i)))\n",
    "    \n",
    "    for i in range(0,len(second_round),2):\n",
    "        real_second_round.append([second_round[i], second_round[i+1]])\n",
    "    return real_second_round\n",
    "        \n",
    "        \n",
    "def seed(i):\n",
    "    if i in [0,8,16,24]:\n",
    "        return .992\n",
    "    elif i in [1,9,17,25]:\n",
    "        return .5\n",
    "    elif i in [2,10,18,26]:\n",
    "        return .65\n",
    "    elif i in [3,11,19,27]:\n",
    "        return .645\n",
    "    elif i in [4,12,20,28]:\n",
    "        return .625\n",
    "    elif i in [5,13,21,29]:\n",
    "        return .85\n",
    "    elif i in [6,14,22,30]:\n",
    "        return .6\n",
    "    elif i in [7,15,23,31]:\n",
    "        return .938"
   ]
  },
  {
   "cell_type": "code",
   "execution_count": 53,
   "id": "94e0bd62",
   "metadata": {},
   "outputs": [],
   "source": [
    "def read_file(filename):\n",
    "    second = []\n",
    "    sweet = []\n",
    "    elite = []\n",
    "    four = []\n",
    "    final = []\n",
    "    champ = []\n",
    "\n",
    "    with open(filename, 'r') as myfile:\n",
    "        line = myfile.readline()\n",
    "        while line != \"SWEET SIXTEEN:\":\n",
    "            line = myfile.readline().strip()\n",
    "            second.append(line)\n",
    "        second.pop()\n",
    "        \n",
    "        while line != \"ELITE EIGHT:\":\n",
    "            line = myfile.readline().strip()\n",
    "            sweet.append(line)\n",
    "        sweet.pop()\n",
    "        \n",
    "        while line != \"FINAL FOUR:\":\n",
    "            line = myfile.readline().strip()\n",
    "            elite.append(line)\n",
    "        elite.pop()\n",
    "        \n",
    "        while line != \"NATIONAL CHAMPIONSHIP:\":\n",
    "            line = myfile.readline().strip()\n",
    "            four.append(line)\n",
    "        four.pop()\n",
    "        \n",
    "        while line != \"NATIONAL CHAMPION:\":\n",
    "            line = myfile.readline().strip()\n",
    "            final.append(line)\n",
    "        final.pop()\n",
    "        champ.append(myfile.readline().strip())\n",
    "    \n",
    "    totals = [second, sweet, elite, four, final, champ]\n",
    "    return totals\n",
    "\n",
    "def accuracy(predicted, actual):\n",
    "    round_accuracy = []\n",
    "    rounds = len(actual)\n",
    "    total_acc = 0\n",
    "    total_length = 0\n",
    "    game_acc = 0\n",
    "    for i in range(rounds):\n",
    "        acc = 0\n",
    "        total_length += len(actual[i])\n",
    "        \n",
    "        if len(actual[i]) == 1:\n",
    "            if predicted[i][0] == actual[i][0]:\n",
    "                acc += 1\n",
    "                total_acc += 1\n",
    "        else:\n",
    "            for j in range(0,len(actual[i]),2):\n",
    "                if predicted[i][j] in actual[i] and predicted[i][j+1] in actual[i]:\n",
    "                    game_acc += 1\n",
    "                    acc += 2\n",
    "                    total_acc += 2\n",
    "                elif predicted[i][j] in actual[i] or predicted[i][j+1] in actual[i]:\n",
    "                    acc += 1\n",
    "                    total_acc += 1\n",
    "                else:\n",
    "                    acc += 0\n",
    "                    total_acc += 0\n",
    "        round_accuracy.append(acc/len(predicted[i]))\n",
    "        \n",
    "    return round_accuracy, total_acc/total_length, game_acc/(total_length//2)\n",
    "\n",
    "\n"
   ]
  },
  {
   "cell_type": "code",
   "execution_count": 54,
   "id": "b441fe36",
   "metadata": {},
   "outputs": [],
   "source": [
    "def generate(num_brackets: int):\n",
    "    for i in range(num_brackets):\n",
    "        initial_bracket = Bracket()\n",
    "        testrun = FirstRound(initial_bracket)\n",
    "        filename = f\"brackets/round{str(i)}.txt\"\n",
    "        with open(filename, 'w') as myfile:\n",
    "            myfile.write(\"SECOND ROUND: \\n\")\n",
    "            for game in testrun:\n",
    "                for i in range(2):\n",
    "                    myfile.write(game[i])\n",
    "                    myfile.write(\"\\n\")\n",
    "        NextRound(testrun, filename, 2)\n"
   ]
  },
  {
   "cell_type": "code",
   "execution_count": null,
   "id": "b7b046d7",
   "metadata": {},
   "outputs": [],
   "source": [
    "# generate(5000) ##DO NOT TOUCH, THIS WILL CREATE MORE BRACKETS, THEY ARE ALREADY GENERATED"
   ]
  },
  {
   "cell_type": "code",
   "execution_count": 55,
   "id": "1c8cb2f1",
   "metadata": {},
   "outputs": [],
   "source": [
    "def score_all(actual: list, num_brackets: int):\n",
    "    accuracies = []\n",
    "    for i in range(num_brackets):\n",
    "        long_total = read_file(\"brackets/round\"+str(i)+\".txt\")\n",
    "        accuracies.append(accuracy(long_total, actual))\n",
    "    \n",
    "    rounds = [tup[0] for tup in accuracies]\n",
    "    percents = [tup[1:] for tup in accuracies]\n",
    "    perc_arr = np.array(percents).reshape(num_brackets,2)\n",
    "    return rounds, perc_arr\n",
    "\n",
    "def score_one(actual: list, filename: str):\n",
    "    predicted = read_file(filename)\n",
    "    accuracies = accuracy(predicted, actual)\n",
    "    return accuracies"
   ]
  },
  {
   "cell_type": "code",
   "execution_count": 8,
   "id": "fbb3ee8a",
   "metadata": {},
   "outputs": [],
   "source": [
    "#The list \"mine\" represents the actual outcomes every round\n",
    "#This will have to be updated every round and run again to get complete\n",
    "#scores per round of how the random brackets are doing.\n",
    "#r_score, p_scores = score_all(mine)"
   ]
  },
  {
   "cell_type": "code",
   "execution_count": null,
   "id": "77b72534",
   "metadata": {},
   "outputs": [],
   "source": [
    "so_far = [[\"Auburn\", \"Creighton\", \"Michigan\", \"Texas A&M\", \"Ole Miss\", \"Iowa State\", \\\n",
    "           \"New Mexico\", \"Michigan St.\", \"Florida\", \"UConn\", \"Colorado St.\", \"Maryland\", \\\n",
    "          \"Drake\", \"Texas Tech\", \"Arkansas\", \"St. John's\", \"Duke\", \"Baylor\", \"Oregon\", \"Arizona\", \\\n",
    "          \"BYU\", \"Wisconsin\", \"Saint Mary's\", \"Alabama\", \"Houston\", \"Gonzaga\", \"McNeese\", \"Purdue\", \"Illinois\", \\\n",
    "          \"Kentucky\", \"UCLA\", \"Tennessee\"], [\"Auburn\", \"Michigan\", \"Ole Miss\", \"Michigan St.\", \"Florida\", \\\n",
    "                                             \"Maryland\", \"Texas Tech\", \"Arkansas\", \"Duke\", \"Arizona\", \"BYU\", \"Alabama\", \\\n",
    "                                                \"Houston\", \"Purdue\", \"Kentucky\", \"Tennessee\"], [\"Auburn\", \"Michigan St.\", \\\n",
    "                                       \"Florida\", \"Texas Tech\", \"Duke\", \"Alabama\", \"Houston\", \"Tennessee\"], \\\n",
    "                        [\"Auburn\", \"Florida\", \"Duke\", \"Houston\"]]\n",
    "\n",
    "r_sc, perc_a = score_all(so_far, 5000)"
   ]
  },
  {
   "cell_type": "code",
   "execution_count": 57,
   "id": "5dc4433c",
   "metadata": {},
   "outputs": [
    {
     "data": {
      "text/plain": [
       "(np.float64(0.7678571428571429),\n",
       " array([0.76785714, 0.60714286]),\n",
       " np.int64(2411))"
      ]
     },
     "execution_count": 57,
     "metadata": {},
     "output_type": "execute_result"
    }
   ],
   "source": [
    "#finding the best bracket out of all 2000 by overall percentage of games\n",
    "#picked correctly.\n",
    "#Print the index of the best bracket\n",
    "\n",
    "def find_best_bracket(num_brackets: int, r_sc, percent):\n",
    "    \"\"\"Finds the best overall score, and the bracket with that score.\n",
    "    Returns the best overall score and the bracket details like the index as well\n",
    "    as the best score and the percentage of game matchups that the bracket predicted\n",
    "    correctly. Much more needs to be done here I think.\"\"\"\n",
    "    best_overall_score = np.max(np.array(percent).reshape(num_brackets,2)[:,0]) # best round percentage no matter what, regardless of bracket\n",
    "    bracket_with_best_overall_score = np.argmax(np.array(percent).reshape(num_brackets,2)[:,0]) # bracket with the best \n",
    "    return best_overall_score, percent[bracket_with_best_overall_score], bracket_with_best_overall_score\n",
    "\n",
    "find_best_bracket(5000, r_sc, perc_a)"
   ]
  },
  {
   "cell_type": "code",
   "execution_count": 58,
   "id": "94fe76fb",
   "metadata": {},
   "outputs": [
    {
     "name": "stdout",
     "output_type": "stream",
     "text": [
      "([0.84375, 0.75, 0.5], 0.7678571428571429, 0.6071428571428571)\n"
     ]
    }
   ],
   "source": [
    "round_acc = score_one(so_far, \"brackets/round2411.txt\")\n",
    "print(round_acc)"
   ]
  },
  {
   "cell_type": "code",
   "execution_count": 43,
   "id": "7e18d735",
   "metadata": {},
   "outputs": [
    {
     "name": "stdout",
     "output_type": "stream",
     "text": [
      "[0.9375, 0.6875]\n"
     ]
    }
   ],
   "source": [
    "print(r_sc[3007])"
   ]
  }
 ],
 "metadata": {
  "kernelspec": {
   "display_name": "venv",
   "language": "python",
   "name": "python3"
  },
  "language_info": {
   "codemirror_mode": {
    "name": "ipython",
    "version": 3
   },
   "file_extension": ".py",
   "mimetype": "text/x-python",
   "name": "python",
   "nbconvert_exporter": "python",
   "pygments_lexer": "ipython3",
   "version": "3.11.3"
  }
 },
 "nbformat": 4,
 "nbformat_minor": 5
}
